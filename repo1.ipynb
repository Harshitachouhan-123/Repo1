{
  "nbformat": 4,
  "nbformat_minor": 0,
  "metadata": {
    "colab": {
      "provenance": []
    },
    "kernelspec": {
      "name": "python3",
      "display_name": "Python 3"
    },
    "language_info": {
      "name": "python"
    }
  },
  "cells": [
    {
      "cell_type": "code",
      "execution_count": 1,
      "metadata": {
        "colab": {
          "base_uri": "https://localhost:8080/"
        },
        "id": "Diw80FxWJM9_",
        "outputId": "bccd39a0-8fa7-4ece-b5cd-3d99299b5a67"
      },
      "outputs": [
        {
          "output_type": "stream",
          "name": "stdout",
          "text": [
            "✅ Final query submitted successfully!\n"
          ]
        }
      ],
      "source": [
        "import requests\n",
        "\n",
        "generate_url = \"https://bfhldevapigw.healthrx.co.in/hiring/generateWebhook/PYTHON\"\n",
        "payload = {\n",
        "    \"name\": \"John Doe\",\n",
        "    \"regNo\": \"REG12347\",\n",
        "    \"email\": \"john@example.com\"\n",
        "}\n",
        "\n",
        "response = requests.post(generate_url, json=payload)\n",
        "\n",
        "if response.status_code == 200:\n",
        "    data = response.json()\n",
        "    webhook_url = data[\"webhook\"]\n",
        "    access_token = data[\"accessToken\"]\n",
        "\n",
        "\n",
        "    final_query = \"\"\"\n",
        "    SELECT\n",
        "        p.AMOUNT AS SALARY,\n",
        "        CONCAT(e.FIRST_NAME, ' ', e.LAST_NAME) AS NAME,\n",
        "        FLOOR(DATEDIFF(CURDATE(), e.DOB) / 365.25) AS AGE,\n",
        "        d.DEPARTMENT_NAME\n",
        "    FROM PAYMENTS p\n",
        "    JOIN EMPLOYEE e ON p.EMP_ID = e.EMP_ID\n",
        "    JOIN DEPARTMENT d ON e.DEPARTMENT = d.DEPARTMENT_ID\n",
        "    WHERE DAY(p.PAYMENT_TIME) != 1\n",
        "    ORDER BY p.AMOUNT DESC\n",
        "    LIMIT 1;\n",
        "    \"\"\"\n",
        "\n",
        "\n",
        "    headers = {\n",
        "        \"Authorization\": access_token,\n",
        "        \"Content-Type\": \"application/json\"\n",
        "    }\n",
        "\n",
        "    final_payload = {\n",
        "        \"finalQuery\": final_query.strip()\n",
        "    }\n",
        "\n",
        "    submit_response = requests.post(webhook_url, json=final_payload, headers=headers)\n",
        "\n",
        "    if submit_response.status_code == 200:\n",
        "        print(\"✅ Final query submitted successfully!\")\n",
        "    else:\n",
        "        print(\"❌ Failed to submit final query:\", submit_response.status_code, submit_response.text)\n",
        "else:\n",
        "    print(\"❌ Failed to generate webhook:\", response.status_code, response.text)"
      ]
    }
  ]
}